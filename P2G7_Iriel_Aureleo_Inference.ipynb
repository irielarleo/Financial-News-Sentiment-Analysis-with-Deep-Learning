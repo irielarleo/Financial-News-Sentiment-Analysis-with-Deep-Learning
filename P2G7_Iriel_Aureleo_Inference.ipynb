{
 "cells": [
  {
   "cell_type": "markdown",
   "id": "5c5b85c3",
   "metadata": {},
   "source": [
    "# **Import Libraries**"
   ]
  },
  {
   "cell_type": "code",
   "execution_count": null,
   "id": "22d6bded",
   "metadata": {},
   "outputs": [],
   "source": [
    "# Import libraries\n",
    "import pandas as pd\n",
    "import numpy as np\n",
    "import re\n",
    "import unicodedata\n",
    "import tensorflow as tf\n",
    "import spacy\n",
    "import pickle\n",
    "from tensorflow.keras.models import load_model"
   ]
  },
  {
   "cell_type": "markdown",
   "id": "bdbba90a",
   "metadata": {},
   "source": [
    "# **Load Model dan LabelEncoder**"
   ]
  },
  {
   "cell_type": "code",
   "execution_count": 2,
   "id": "c7d0516d",
   "metadata": {},
   "outputs": [
    {
     "name": "stderr",
     "output_type": "stream",
     "text": [
      "WARNING:absl:Compiled the loaded model, but the compiled metrics have yet to be built. `model.compile_metrics` will be empty until you train or evaluate the model.\n"
     ]
    }
   ],
   "source": [
    "# Load model ANN terbaik\n",
    "model = load_model('model_sentiment_ann.h5')\n",
    "\n",
    "# Load LabelEncoder\n",
    "with open('label_encoder.pkl', 'rb') as file:\n",
    "    le = pickle.load(file)"
   ]
  },
  {
   "cell_type": "markdown",
   "id": "dc908f63",
   "metadata": {},
   "source": [
    "# **Preprocessing Data**"
   ]
  },
  {
   "cell_type": "code",
   "execution_count": null,
   "id": "0c7be76c",
   "metadata": {},
   "outputs": [],
   "source": [
    "# Load spaCy English model\n",
    "nlp = spacy.load(\"en_core_web_sm\")\n",
    "\n",
    "# Stopwords\n",
    "from nltk.corpus import stopwords\n",
    "stop_words = set(stopwords.words('english'))\n",
    "\n",
    "# Fungsi cleaning\n",
    "def clean_text(text):\n",
    "    text = text.lower()\n",
    "    text = re.sub(r'\\d+', '', text)\n",
    "    text = re.sub(r'\\S+@\\S+', '', text)\n",
    "    text = re.sub(r'http\\S+|www\\S+', '', text)\n",
    "    text = re.sub(r'\\brt\\b', '', text)\n",
    "    text = re.sub(r'<.*?>', '', text)\n",
    "    text = re.sub(r'[^\\w\\s]', '', text)\n",
    "    text = re.sub(r'\\s+', ' ', text).strip()\n",
    "    text = unicodedata.normalize('NFKD', text).encode('ASCII', 'ignore').decode('utf-8', 'ignore')\n",
    "    return text\n",
    "\n",
    "# Stopword removal\n",
    "def remove_stopwords(text):\n",
    "    return ' '.join([word for word in text.split() if word not in stop_words])\n",
    "\n",
    "# Lemmatization\n",
    "def lemmatize_text(text):\n",
    "    doc = nlp(text)\n",
    "    return ' '.join([token.lemma_ for token in doc])\n",
    "\n",
    "# Normalisasi istilah financial\n",
    "def normalize_financial_terms(text):\n",
    "    text = re.sub(r'\\bmln\\b|\\bmn\\b|\\bmillion\\b', 'million', text)\n",
    "    text = re.sub(r'\\beur\\b|\\beuro\\b', 'euro', text)\n",
    "    return text\n",
    "\n",
    "# Pipeline preprocessing\n",
    "def preprocess_pipeline(text):\n",
    "    text = clean_text(text)\n",
    "    text = remove_stopwords(text)\n",
    "    text = lemmatize_text(text)\n",
    "    text = normalize_financial_terms(text)\n",
    "    return text"
   ]
  },
  {
   "cell_type": "markdown",
   "id": "d6441e69",
   "metadata": {},
   "source": [
    "# **Load dan Preprocess Data Baru**"
   ]
  },
  {
   "cell_type": "code",
   "execution_count": 4,
   "id": "cf07fc54",
   "metadata": {},
   "outputs": [],
   "source": [
    "# Contoh data baru\n",
    "new_data = pd.DataFrame({\n",
    "    'Sentence': [\n",
    "        \"The company's earnings grew by 15% this quarter, exceeding analyst expectations.\",\n",
    "        \"Market conditions remain uncertain amid economic slowdown.\",\n",
    "        \"Investors show strong optimism following the announcement.\"\n",
    "    ]\n",
    "})\n",
    "\n",
    "# Terapkan preprocessing\n",
    "new_data['clean_text'] = new_data['Sentence'].apply(preprocess_pipeline)"
   ]
  },
  {
   "cell_type": "markdown",
   "id": "1f9e68eb",
   "metadata": {},
   "source": [
    "# **Vectorization Data Baru**"
   ]
  },
  {
   "cell_type": "code",
   "execution_count": 5,
   "id": "09f84952",
   "metadata": {},
   "outputs": [
    {
     "name": "stdout",
     "output_type": "stream",
     "text": [
      "\u001b[1m1/1\u001b[0m \u001b[32m━━━━━━━━━━━━━━━━━━━━\u001b[0m\u001b[37m\u001b[0m \u001b[1m0s\u001b[0m 368ms/step\n"
     ]
    }
   ],
   "source": [
    "# Load kembali vectorizer\n",
    "loaded_vectorizer_model = tf.keras.models.load_model('text_vectorizer_model.keras')\n",
    "\n",
    "# Konversi kolom clean_text ke array bertipe string\n",
    "texts = new_data['clean_text'].astype(str).values\n",
    "\n",
    "# Gunakan vectorizer untuk memproses data\n",
    "X_new_seq = loaded_vectorizer_model.predict(texts)"
   ]
  },
  {
   "cell_type": "markdown",
   "id": "21ebb2f2",
   "metadata": {},
   "source": [
    "# **Prediksi**"
   ]
  },
  {
   "cell_type": "code",
   "execution_count": null,
   "id": "0428c490",
   "metadata": {},
   "outputs": [
    {
     "name": "stdout",
     "output_type": "stream",
     "text": [
      "\u001b[1m1/1\u001b[0m \u001b[32m━━━━━━━━━━━━━━━━━━━━\u001b[0m\u001b[37m\u001b[0m \u001b[1m1s\u001b[0m 558ms/step\n"
     ]
    },
    {
     "data": {
      "text/html": [
       "<div>\n",
       "<style scoped>\n",
       "    .dataframe tbody tr th:only-of-type {\n",
       "        vertical-align: middle;\n",
       "    }\n",
       "\n",
       "    .dataframe tbody tr th {\n",
       "        vertical-align: top;\n",
       "    }\n",
       "\n",
       "    .dataframe thead th {\n",
       "        text-align: right;\n",
       "    }\n",
       "</style>\n",
       "<table border=\"1\" class=\"dataframe\">\n",
       "  <thead>\n",
       "    <tr style=\"text-align: right;\">\n",
       "      <th></th>\n",
       "      <th>Sentence</th>\n",
       "      <th>Predicted Label</th>\n",
       "    </tr>\n",
       "  </thead>\n",
       "  <tbody>\n",
       "    <tr>\n",
       "      <th>0</th>\n",
       "      <td>The company's earnings grew by 15% this quarte...</td>\n",
       "      <td>positive</td>\n",
       "    </tr>\n",
       "    <tr>\n",
       "      <th>1</th>\n",
       "      <td>Market conditions remain uncertain amid econom...</td>\n",
       "      <td>neutral</td>\n",
       "    </tr>\n",
       "    <tr>\n",
       "      <th>2</th>\n",
       "      <td>Investors show strong optimism following the a...</td>\n",
       "      <td>neutral</td>\n",
       "    </tr>\n",
       "  </tbody>\n",
       "</table>\n",
       "</div>"
      ],
      "text/plain": [
       "                                            Sentence Predicted Label\n",
       "0  The company's earnings grew by 15% this quarte...        positive\n",
       "1  Market conditions remain uncertain amid econom...         neutral\n",
       "2  Investors show strong optimism following the a...         neutral"
      ]
     },
     "execution_count": 6,
     "metadata": {},
     "output_type": "execute_result"
    }
   ],
   "source": [
    "# Prediksi\n",
    "predictions = model.predict(X_new_seq)\n",
    "predicted_labels = np.argmax(predictions, axis=1)\n",
    "\n",
    "# Konversi ke label asli\n",
    "new_data['Predicted Label'] = le.inverse_transform(predicted_labels)\n",
    "\n",
    "new_data[['Sentence', 'Predicted Label']]"
   ]
  }
 ],
 "metadata": {
  "kernelspec": {
   "display_name": "nlp_env",
   "language": "python",
   "name": "python3"
  },
  "language_info": {
   "codemirror_mode": {
    "name": "ipython",
    "version": 3
   },
   "file_extension": ".py",
   "mimetype": "text/x-python",
   "name": "python",
   "nbconvert_exporter": "python",
   "pygments_lexer": "ipython3",
   "version": "3.12.4"
  }
 },
 "nbformat": 4,
 "nbformat_minor": 5
}
